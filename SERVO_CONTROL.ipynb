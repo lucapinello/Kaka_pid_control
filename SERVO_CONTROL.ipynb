{
 "cells": [
  {
   "cell_type": "code",
   "execution_count": 2,
   "metadata": {},
   "outputs": [
    {
     "data": {
      "text/plain": [
       "0"
      ]
     },
     "execution_count": 2,
     "metadata": {},
     "output_type": "execute_result"
    }
   ],
   "source": [
    "import subprocess as sb\n",
    "import sys\n",
    "import time\n",
    "import random\n",
    "import pigpio\n",
    "import numpy as np\n",
    "import os\n",
    "import fcntl as F\n",
    "\n",
    "\n",
    "sb.call('sudo pigpiod',shell=True)"
   ]
  },
  {
   "cell_type": "code",
   "execution_count": 3,
   "metadata": {
    "scrolled": true
   },
   "outputs": [],
   "source": [
    "GPIO_PIN=17\n",
    "\n",
    "MAX_PULSE=1760\n",
    "MIN_PULSE=900\n",
    "OFF_PULSE=2500\n",
    "LIGHT_PULSE=900\n",
    "pi = pigpio.pi()\n",
    " "
   ]
  },
  {
   "cell_type": "code",
   "execution_count": 111,
   "metadata": {},
   "outputs": [],
   "source": [
    "def set_burner(power_level,GPIO_PIN=17,\n",
    "               MAX_PULSE=1850, #this map to min gas\n",
    "               MIN_PULSE=1105, #this map to max gas\n",
    "               OFF_PULSE=2500,\n",
    "               IGNITION_PULSE=900,state_filename='burner_state'):\n",
    "    \n",
    "    with open(state_filename, 'r') as state_file:\n",
    "        previous_state=state_file.read()\n",
    "    \n",
    "    \n",
    "    if power_level==0:\n",
    "        pulse_width=OFF_PULSE\n",
    "    else:\n",
    "        pulse_width=(100-power_level)/100.0 *(MAX_PULSE-MIN_PULSE)+MIN_PULSE\n",
    "        \n",
    "        \n",
    "    if pulse_width<2500:\n",
    "        state='ON'\n",
    "    else:\n",
    "        state='OFF'\n",
    "           \n",
    "    pi.set_servo_pulsewidth(GPIO_PIN, pulse_width) \n",
    "    \n",
    "    if previous_state=='OFF' and state=='ON':\n",
    "        time.sleep(1.0)\n",
    "        pi.set_servo_pulsewidth(GPIO_PIN, IGNITION_PULSE)\n",
    "        time.sleep(0.5)\n",
    "        pi.set_servo_pulsewidth(GPIO_PIN, pulse_width)\n",
    "        \n",
    "    with open(state_filename, 'w+') as state_file:\n",
    "        state_file.write(state)\n",
    "        \n",
    "    return pulse_width\n",
    "    \n"
   ]
  },
  {
   "cell_type": "code",
   "execution_count": 112,
   "metadata": {},
   "outputs": [
    {
     "name": "stdout",
     "output_type": "stream",
     "text": [
      "ON"
     ]
    }
   ],
   "source": [
    "!cat burner_state"
   ]
  },
  {
   "cell_type": "code",
   "execution_count": 120,
   "metadata": {},
   "outputs": [
    {
     "data": {
      "text/plain": [
       "1789.0"
      ]
     },
     "execution_count": 120,
     "metadata": {},
     "output_type": "execute_result"
    }
   ],
   "source": [
    "set_burner(10)"
   ]
  },
  {
   "cell_type": "code",
   "execution_count": 117,
   "metadata": {},
   "outputs": [
    {
     "data": {
      "text/plain": [
       "1857.4"
      ]
     },
     "execution_count": 117,
     "metadata": {},
     "output_type": "execute_result"
    }
   ],
   "source": [
    "set_burner(1)"
   ]
  },
  {
   "cell_type": "code",
   "execution_count": 90,
   "metadata": {},
   "outputs": [
    {
     "data": {
      "text/plain": [
       "1694.5"
      ]
     },
     "execution_count": 90,
     "metadata": {},
     "output_type": "execute_result"
    }
   ],
   "source": [
    "set_burner(10)"
   ]
  },
  {
   "cell_type": "code",
   "execution_count": 91,
   "metadata": {},
   "outputs": [
    {
     "data": {
      "text/plain": [
       "1432.5"
      ]
     },
     "execution_count": 91,
     "metadata": {},
     "output_type": "execute_result"
    }
   ],
   "source": [
    "set_burner(50)"
   ]
  },
  {
   "cell_type": "code",
   "execution_count": 92,
   "metadata": {},
   "outputs": [
    {
     "data": {
      "text/plain": [
       "1105.0"
      ]
     },
     "execution_count": 92,
     "metadata": {},
     "output_type": "execute_result"
    }
   ],
   "source": [
    "set_burner(100)"
   ]
  },
  {
   "cell_type": "code",
   "execution_count": 121,
   "metadata": {},
   "outputs": [
    {
     "data": {
      "text/plain": [
       "2500"
      ]
     },
     "execution_count": 121,
     "metadata": {},
     "output_type": "execute_result"
    }
   ],
   "source": [
    "set_burner(0)"
   ]
  },
  {
   "cell_type": "code",
   "execution_count": 98,
   "metadata": {},
   "outputs": [
    {
     "data": {
      "text/plain": [
       "0"
      ]
     },
     "execution_count": 98,
     "metadata": {},
     "output_type": "execute_result"
    }
   ],
   "source": [
    "pi.set_servo_pulsewidth(GPIO_PIN, 10) "
   ]
  },
  {
   "cell_type": "code",
   "execution_count": 32,
   "metadata": {},
   "outputs": [
    {
     "data": {
      "text/plain": [
       "-600"
      ]
     },
     "execution_count": 32,
     "metadata": {},
     "output_type": "execute_result"
    }
   ],
   "source": [
    "900-1500"
   ]
  },
  {
   "cell_type": "code",
   "execution_count": null,
   "metadata": {},
   "outputs": [],
   "source": []
  }
 ],
 "metadata": {
  "kernelspec": {
   "display_name": "Python 3",
   "language": "python",
   "name": "python3"
  },
  "language_info": {
   "codemirror_mode": {
    "name": "ipython",
    "version": 3
   },
   "file_extension": ".py",
   "mimetype": "text/x-python",
   "name": "python",
   "nbconvert_exporter": "python",
   "pygments_lexer": "ipython3",
   "version": "3.7.3"
  }
 },
 "nbformat": 4,
 "nbformat_minor": 2
}
