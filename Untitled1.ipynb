{
 "cells": [
  {
   "cell_type": "code",
   "execution_count": null,
   "metadata": {},
   "outputs": [],
   "source": [
    "def set_burner(power_level,GPIO_PIN=17,MIN_PULSE=900,MAX_PULSE=2200):\n",
    "    pulse_width=(100-power_level)/100.0 *(MAX_PULSE-MIN_PULSE)+MIN_PULSE\n",
    "    pi.set_servo_pulsewidth(GPIO_PIN, pulse_width) \n",
    "    return pulse_width"
   ]
  }
 ],
 "metadata": {
  "kernelspec": {
   "display_name": "Python 3",
   "language": "python",
   "name": "python3"
  },
  "language_info": {
   "codemirror_mode": {
    "name": "ipython",
    "version": 3
   },
   "file_extension": ".py",
   "mimetype": "text/x-python",
   "name": "python",
   "nbconvert_exporter": "python",
   "pygments_lexer": "ipython3",
   "version": "3.7.3"
  }
 },
 "nbformat": 4,
 "nbformat_minor": 2
}
